{
 "cells": [
  {
   "cell_type": "code",
   "execution_count": 2,
   "metadata": {},
   "outputs": [],
   "source": [
    "def build_cypher(cypher_str:str)->dict[str,str]:\n",
    "    # get pairs of letters in cypher\n",
    "    pairs = [cypher_str[i:i+2] for i in range(0,len(cypher_str), 2)]\n",
    "    # build cypher from pairs\n",
    "    cypher = {s[0]:s[1] for s in pairs}\n",
    "    # add capitals and reversals\n",
    "    cypher.update({k.upper():v.upper() for k,v in cypher.items()})\n",
    "    cypher.update({v:k for k,v in cypher.items()})\n",
    "    return cypher"
   ]
  },
  {
   "cell_type": "code",
   "execution_count": 3,
   "metadata": {},
   "outputs": [],
   "source": [
    "def encode(message:str, cypher:str)->str:\n",
    "    \"\"\"Encodes a message using a cypher. The cypher should be formatted\n",
    "    so that each pair of letters indicates forwards and backwards encodings, and\n",
    "    should be lower case.\n",
    "    \"\"\"\n",
    "    # convert cypher to lower case\n",
    "    cypher_str = cypher.lower()\n",
    "    cypher_dict = build_cypher(cypher_str)\n",
    "    encoded:list[str] = []\n",
    "    for letter in message:\n",
    "        encoded_letter = cypher_dict.get(letter, letter) # use get to return default\n",
    "        encoded.append(encoded_letter)\n",
    "    return ''.join(encoded)\n",
    "\n",
    "def decode(message:str, cypher:str)->str:\n",
    "    return encode(message, cypher)"
   ]
  },
  {
   "cell_type": "code",
   "execution_count": 4,
   "metadata": {},
   "outputs": [],
   "source": [
    " assert(encode(\"ABCD\", \"agedyropulik\")=='GBCE')\n",
    " assert(encode(\"Ava has a cat\", \"gaderypoluki\")=='Gvg hgs g cgt')  \n",
    " assert(decode(\"Dkucr pu yhr ykbir\",\"politykarenu\")=='Dance on the table')\n",
    " assert(decode(\"Hmdr nge brres\",\"regulaminowy\")=='Hide our beers')"
   ]
  },
  {
   "cell_type": "code",
   "execution_count": null,
   "metadata": {},
   "outputs": [],
   "source": []
  }
 ],
 "metadata": {
  "kernelspec": {
   "display_name": "base",
   "language": "python",
   "name": "python3"
  },
  "language_info": {
   "codemirror_mode": {
    "name": "ipython",
    "version": 3
   },
   "file_extension": ".py",
   "mimetype": "text/x-python",
   "name": "python",
   "nbconvert_exporter": "python",
   "pygments_lexer": "ipython3",
   "version": "3.11.4"
  }
 },
 "nbformat": 4,
 "nbformat_minor": 2
}
