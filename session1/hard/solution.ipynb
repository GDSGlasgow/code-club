{
 "cells": [
  {
   "cell_type": "code",
   "execution_count": 17,
   "metadata": {},
   "outputs": [],
   "source": [
    "def find_the_key(messages:list[str], secrets:list[str])->str:\n",
    "    \"\"\"Cracks the code from a given set of messages and secrets\"\"\"\n",
    "    messages_str = ''.join(messages)\n",
    "    secrets_str = ''.join(secrets)\n",
    "    cypher_pairs = []\n",
    "    for m,s in zip(messages_str, secrets_str):\n",
    "        if m != s:\n",
    "            # arrange alphabetically and make lower case\n",
    "            pair = sorted([m.lower(), s.lower()])\n",
    "            cypher_pairs.append(''.join(pair)) #-> ['m0s0','s1m1',...]\n",
    "    unique_pairs = list(set(cypher_pairs)) # remove dups\n",
    "    sorted_cypher_pairs = sorted(unique_pairs) # sort pairs alphabetically\n",
    "    return ''.join(sorted_cypher_pairs)"
   ]
  },
  {
   "cell_type": "code",
   "execution_count": 19,
   "metadata": {},
   "outputs": [],
   "source": [
    "messages = [\"dance on the table\", \"hide my beers\", \"scouts rocks\"]\n",
    "secrets = [\"egncd pn thd tgbud\" ,\"hked mr bddys\" ,\"scplts ypcis\" ]\n",
    "assert(find_the_key(messages, secrets)=='agdeikluopry')"
   ]
  }
 ],
 "metadata": {
  "kernelspec": {
   "display_name": "base",
   "language": "python",
   "name": "python3"
  },
  "language_info": {
   "codemirror_mode": {
    "name": "ipython",
    "version": 3
   },
   "file_extension": ".py",
   "mimetype": "text/x-python",
   "name": "python",
   "nbconvert_exporter": "python",
   "pygments_lexer": "ipython3",
   "version": "3.11.4"
  }
 },
 "nbformat": 4,
 "nbformat_minor": 2
}
