{
 "cells": [
  {
   "cell_type": "code",
   "execution_count": 17,
   "metadata": {},
   "outputs": [],
   "source": [
    "def find_the_key(messages:list[str], secrets:list[str])->str:\n",
    "    \"\"\"Cracks the code from a given set of messages and secrets\"\"\"\n",
    "    messages_str = ''.join(messages)\n",
    "    secrets_str = ''.join(secrets)\n",
    "    cypher_pairs = []\n",
    "    for m,s in zip(messages_str, secrets_str):\n",
    "        if m != s:\n",
    "            # arrange alphabetically and make lower case\n",
    "            pair = sorted([m.lower(), s.lower()])\n",
    "            cypher_pairs.append(''.join(pair)) #-> ['m0s0','s1m1',...]\n",
    "            \n",
    "    unique_pairs = list(set(cypher_pairs)) # remove dups\n",
    "    sorted_cypher_pairs = sorted(unique_pairs) # sort pairs alphabetically\n",
    "    return ''.join(sorted_cypher_pairs)"
   ]
  },
  {
   "cell_type": "code",
   "execution_count": 19,
   "metadata": {},
   "outputs": [],
   "source": [
    "messages = [\"dance on the table\", \"hide my beers\", \"scouts rocks\"]\n",
    "secrets = [\"egncd pn thd tgbud\" ,\"hked mr bddys\" ,\"scplts ypcis\" ]\n",
    "assert(find_the_key(messages, secrets)=='agdeikluopry')"
   ]
  },
  {
   "cell_type": "code",
   "execution_count": 23,
   "metadata": {},
   "outputs": [
    {
     "data": {
      "text/plain": [
       "5"
      ]
     },
     "execution_count": 23,
     "metadata": {},
     "output_type": "execute_result"
    }
   ],
   "source": [
    "int(5.798)"
   ]
  },
  {
   "cell_type": "code",
   "execution_count": 33,
   "metadata": {},
   "outputs": [],
   "source": [
    "def nearest_multiple(n, a):\n",
    "    n_div_a = n/a\n",
    "    n_div_a_remainder = n/a - n//a\n",
    "    if n_div_a_remainder >= 0.5:\n",
    "        return (n//a + 1)*a\n",
    "    else:\n",
    "        return (n//a)*a"
   ]
  },
  {
   "cell_type": "code",
   "execution_count": 34,
   "metadata": {},
   "outputs": [
    {
     "data": {
      "text/plain": [
       "1658672610905"
      ]
     },
     "execution_count": 34,
     "metadata": {},
     "output_type": "execute_result"
    }
   ],
   "source": [
    "nearest_multiple(1656867687674,5987987765)"
   ]
  },
  {
   "cell_type": "code",
   "execution_count": 36,
   "metadata": {},
   "outputs": [],
   "source": [
    "import math \n",
    "def nearest_square(n):\n",
    "    root_n = math.sqrt(n)\n",
    "    floor_root_n = int(root_n)\n",
    "    remainder_root_n = root_n - floor_root_n\n",
    "    if remainder_root_n >= 0.5:\n",
    "        return (floor_root_n + 1)**2\n",
    "    else:\n",
    "        return floor_root_n**2"
   ]
  },
  {
   "cell_type": "code",
   "execution_count": 37,
   "metadata": {},
   "outputs": [
    {
     "data": {
      "text/plain": [
       "1656868393636"
      ]
     },
     "execution_count": 37,
     "metadata": {},
     "output_type": "execute_result"
    }
   ],
   "source": [
    "nearest_square(1656867687674)"
   ]
  },
  {
   "cell_type": "code",
   "execution_count": null,
   "metadata": {},
   "outputs": [],
   "source": []
  }
 ],
 "metadata": {
  "kernelspec": {
   "display_name": "base",
   "language": "python",
   "name": "python3"
  },
  "language_info": {
   "codemirror_mode": {
    "name": "ipython",
    "version": 3
   },
   "file_extension": ".py",
   "mimetype": "text/x-python",
   "name": "python",
   "nbconvert_exporter": "python",
   "pygments_lexer": "ipython3",
   "version": "3.11.4"
  }
 },
 "nbformat": 4,
 "nbformat_minor": 2
}
