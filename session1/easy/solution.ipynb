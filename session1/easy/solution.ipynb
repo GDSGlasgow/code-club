{
 "cells": [
  {
   "cell_type": "code",
   "execution_count": 1,
   "metadata": {},
   "outputs": [],
   "source": [
    "from collections import defaultdict"
   ]
  },
  {
   "cell_type": "code",
   "execution_count": 16,
   "metadata": {},
   "outputs": [],
   "source": [
    "def get_cypher():\n",
    "    cypher = {'a':'g','d':'e','r':'y','p':'o', 'l':'u'}\n",
    "    # add capitals\n",
    "    cypher.update({k.upper():v.upper() for k,v in cypher.items()})\n",
    "    # add reverse\n",
    "    cypher.update({v:k for k,v in cypher.items()})\n",
    "    return cypher"
   ]
  },
  {
   "cell_type": "code",
   "execution_count": 17,
   "metadata": {},
   "outputs": [],
   "source": [
    "cypher = get_cypher()\n",
    "\n",
    "def encode(message:str)->str:\n",
    "    \"\"\"Encodes a message using a cypher\"\"\"\n",
    "    encoded:list[str] = []\n",
    "    for letter in message:\n",
    "        encoded_letter = cypher.get(letter, letter) # use get to return default\n",
    "        encoded.append(encoded_letter)\n",
    "    return ''.join(encoded)\n",
    "\n",
    "def decode(message:str)->str:\n",
    "    \"\"\"Cypher is symmetrical so encode/decode should be the same.\"\"\"\n",
    "    return encode(message)"
   ]
  },
  {
   "cell_type": "code",
   "execution_count": null,
   "metadata": {},
   "outputs": [],
   "source": []
  }
 ],
 "metadata": {
  "kernelspec": {
   "display_name": "base",
   "language": "python",
   "name": "python3"
  },
  "language_info": {
   "codemirror_mode": {
    "name": "ipython",
    "version": 3
   },
   "file_extension": ".py",
   "mimetype": "text/x-python",
   "name": "python",
   "nbconvert_exporter": "python",
   "pygments_lexer": "ipython3",
   "version": "3.11.4"
  }
 },
 "nbformat": 4,
 "nbformat_minor": 2
}
